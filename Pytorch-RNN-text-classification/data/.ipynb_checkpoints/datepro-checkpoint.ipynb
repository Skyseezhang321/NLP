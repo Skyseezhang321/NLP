{
 "cells": [
  {
   "cell_type": "code",
   "execution_count": 42,
   "metadata": {},
   "outputs": [],
   "source": [
    "import pandas as pd"
   ]
  },
  {
   "cell_type": "code",
   "execution_count": 43,
   "metadata": {},
   "outputs": [],
   "source": [
    "data = pd.read_csv('train_test_data.csv')"
   ]
  },
  {
   "cell_type": "code",
   "execution_count": 44,
   "metadata": {},
   "outputs": [],
   "source": [
    "data.dropna(inplace=True)"
   ]
  },
  {
   "cell_type": "code",
   "execution_count": 45,
   "metadata": {},
   "outputs": [],
   "source": [
    "split_index = int(len(data)*0.7)\n",
    "train = data[:split_index]\n",
    "test = data[split_index:]"
   ]
  },
  {
   "cell_type": "code",
   "execution_count": 46,
   "metadata": {},
   "outputs": [],
   "source": [
    "for df in [train,test]:\n",
    "    df.rename(columns={'content':'body','target':'label'},inplace=True)\n",
    "    df = df[['label','body']]"
   ]
  },
  {
   "cell_type": "code",
   "execution_count": 47,
   "metadata": {},
   "outputs": [
    {
     "name": "stderr",
     "output_type": "stream",
     "text": [
      "/Users/exudingtao/opt/anaconda3/lib/python3.7/site-packages/ipykernel_launcher.py:1: SettingWithCopyWarning: \n",
      "A value is trying to be set on a copy of a slice from a DataFrame.\n",
      "Try using .loc[row_indexer,col_indexer] = value instead\n",
      "\n",
      "See the caveats in the documentation: http://pandas.pydata.org/pandas-docs/stable/user_guide/indexing.html#returning-a-view-versus-a-copy\n",
      "  \"\"\"Entry point for launching an IPython kernel.\n",
      "/Users/exudingtao/opt/anaconda3/lib/python3.7/site-packages/ipykernel_launcher.py:2: SettingWithCopyWarning: \n",
      "A value is trying to be set on a copy of a slice from a DataFrame.\n",
      "Try using .loc[row_indexer,col_indexer] = value instead\n",
      "\n",
      "See the caveats in the documentation: http://pandas.pydata.org/pandas-docs/stable/user_guide/indexing.html#returning-a-view-versus-a-copy\n",
      "  \n"
     ]
    }
   ],
   "source": [
    "train['label'] = train['label'].astype(\"int\")\n",
    "test['label'] = test['label'].astype(\"int\")"
   ]
  },
  {
   "cell_type": "code",
   "execution_count": 48,
   "metadata": {},
   "outputs": [],
   "source": [
    "train.to_csv('train1.csv',index=False)\n",
    "test.to_csv('test1.csv',index=False)"
   ]
  },
  {
   "cell_type": "code",
   "execution_count": 50,
   "metadata": {},
   "outputs": [
    {
     "data": {
      "text/html": [
       "<div>\n",
       "<style scoped>\n",
       "    .dataframe tbody tr th:only-of-type {\n",
       "        vertical-align: middle;\n",
       "    }\n",
       "\n",
       "    .dataframe tbody tr th {\n",
       "        vertical-align: top;\n",
       "    }\n",
       "\n",
       "    .dataframe thead th {\n",
       "        text-align: right;\n",
       "    }\n",
       "</style>\n",
       "<table border=\"1\" class=\"dataframe\">\n",
       "  <thead>\n",
       "    <tr style=\"text-align: right;\">\n",
       "      <th></th>\n",
       "      <th>label</th>\n",
       "      <th>body</th>\n",
       "    </tr>\n",
       "  </thead>\n",
       "  <tbody>\n",
       "    <tr>\n",
       "      <td>0</td>\n",
       "      <td>0</td>\n",
       "      <td>这疫情局势有点严重啊~~~，决定不回老家过年了，寒假就留在北京，不然就算出去了到时也讲不定会...</td>\n",
       "    </tr>\n",
       "    <tr>\n",
       "      <td>1</td>\n",
       "      <td>1</td>\n",
       "      <td>继续在线卑求延期控制传染源减少流动性大学生一个宿舍好几个人几十个人一上课离武汉那么近控制的了...</td>\n",
       "    </tr>\n",
       "    <tr>\n",
       "      <td>2</td>\n",
       "      <td>0</td>\n",
       "      <td>广东还没有出消息；但如果延期开学的话，老师和学生的压力只会更大。我现在在想，哪个平台可以视频...</td>\n",
       "    </tr>\n",
       "    <tr>\n",
       "      <td>3</td>\n",
       "      <td>0</td>\n",
       "      <td>我我什么还要在线教学，这不是逼着我洗头吗？</td>\n",
       "    </tr>\n",
       "    <tr>\n",
       "      <td>4</td>\n",
       "      <td>0</td>\n",
       "      <td>#武汉市中小学2月10日线上开课#评论里质疑有没有用的一看就是没上过网络课，坐标江苏，之前高...</td>\n",
       "    </tr>\n",
       "    <tr>\n",
       "      <td>...</td>\n",
       "      <td>...</td>\n",
       "      <td>...</td>\n",
       "    </tr>\n",
       "    <tr>\n",
       "      <td>1089</td>\n",
       "      <td>0</td>\n",
       "      <td>在线授课端，希沃课件，云课堂，手写板，声卡，pad分屏……感谢小刘同志的技术支持……不想当主...</td>\n",
       "    </tr>\n",
       "    <tr>\n",
       "      <td>1090</td>\n",
       "      <td>0</td>\n",
       "      <td>疫情的影响，不能正常上班!改为在线上上课，对上课软件不熟练、备课仓促、新的授课方式……都是新...</td>\n",
       "    </tr>\n",
       "    <tr>\n",
       "      <td>1091</td>\n",
       "      <td>0</td>\n",
       "      <td>在线授课真香！终于不用在学生面前偷偷摸摸玩手机了！</td>\n",
       "    </tr>\n",
       "    <tr>\n",
       "      <td>1092</td>\n",
       "      <td>0</td>\n",
       "      <td>在线授课，学习了一下某教学直播平台，当代教师啥都需要会啊……</td>\n",
       "    </tr>\n",
       "    <tr>\n",
       "      <td>1093</td>\n",
       "      <td>0</td>\n",
       "      <td>#让学习总美好#接到面授课转在线课的通知后，家人都在帮我准备，借电脑的、打电话安装宽带的.....</td>\n",
       "    </tr>\n",
       "  </tbody>\n",
       "</table>\n",
       "<p>1094 rows × 2 columns</p>\n",
       "</div>"
      ],
      "text/plain": [
       "      label                                               body\n",
       "0         0  这疫情局势有点严重啊~~~，决定不回老家过年了，寒假就留在北京，不然就算出去了到时也讲不定会...\n",
       "1         1  继续在线卑求延期控制传染源减少流动性大学生一个宿舍好几个人几十个人一上课离武汉那么近控制的了...\n",
       "2         0  广东还没有出消息；但如果延期开学的话，老师和学生的压力只会更大。我现在在想，哪个平台可以视频...\n",
       "3         0                              我我什么还要在线教学，这不是逼着我洗头吗？\n",
       "4         0  #武汉市中小学2月10日线上开课#评论里质疑有没有用的一看就是没上过网络课，坐标江苏，之前高...\n",
       "...     ...                                                ...\n",
       "1089      0  在线授课端，希沃课件，云课堂，手写板，声卡，pad分屏……感谢小刘同志的技术支持……不想当主...\n",
       "1090      0  疫情的影响，不能正常上班!改为在线上上课，对上课软件不熟练、备课仓促、新的授课方式……都是新...\n",
       "1091      0                          在线授课真香！终于不用在学生面前偷偷摸摸玩手机了！\n",
       "1092      0                     在线授课，学习了一下某教学直播平台，当代教师啥都需要会啊……\n",
       "1093      0  #让学习总美好#接到面授课转在线课的通知后，家人都在帮我准备，借电脑的、打电话安装宽带的.....\n",
       "\n",
       "[1094 rows x 2 columns]"
      ]
     },
     "execution_count": 50,
     "metadata": {},
     "output_type": "execute_result"
    }
   ],
   "source": [
    "train"
   ]
  },
  {
   "cell_type": "code",
   "execution_count": null,
   "metadata": {},
   "outputs": [],
   "source": []
  }
 ],
 "metadata": {
  "kernelspec": {
   "display_name": "Python 3",
   "language": "python",
   "name": "python3"
  },
  "language_info": {
   "codemirror_mode": {
    "name": "ipython",
    "version": 3
   },
   "file_extension": ".py",
   "mimetype": "text/x-python",
   "name": "python",
   "nbconvert_exporter": "python",
   "pygments_lexer": "ipython3",
   "version": "3.7.4"
  }
 },
 "nbformat": 4,
 "nbformat_minor": 2
}
