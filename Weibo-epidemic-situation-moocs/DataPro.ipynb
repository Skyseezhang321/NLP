{
 "cells": [
  {
   "cell_type": "code",
   "execution_count": 52,
   "metadata": {},
   "outputs": [],
   "source": [
    "import pandas as pd"
   ]
  },
  {
   "cell_type": "code",
   "execution_count": 11,
   "metadata": {},
   "outputs": [
    {
     "name": "stderr",
     "output_type": "stream",
     "text": [
      "/Users/exudingtao/opt/anaconda3/lib/python3.7/site-packages/IPython/core/interactiveshell.py:3058: DtypeWarning: Columns (8) have mixed types. Specify dtype option on import or set low_memory=False.\n",
      "  interactivity=interactivity, compiler=compiler, result=result)\n"
     ]
    }
   ],
   "source": [
    "data = pd.read_csv('./data/dat0121-0208.csv')"
   ]
  },
  {
   "cell_type": "code",
   "execution_count": 12,
   "metadata": {},
   "outputs": [
    {
     "data": {
      "text/html": [
       "<div>\n",
       "<style scoped>\n",
       "    .dataframe tbody tr th:only-of-type {\n",
       "        vertical-align: middle;\n",
       "    }\n",
       "\n",
       "    .dataframe tbody tr th {\n",
       "        vertical-align: top;\n",
       "    }\n",
       "\n",
       "    .dataframe thead th {\n",
       "        text-align: right;\n",
       "    }\n",
       "</style>\n",
       "<table border=\"1\" class=\"dataframe\">\n",
       "  <thead>\n",
       "    <tr style=\"text-align: right;\">\n",
       "      <th></th>\n",
       "      <th>nickname</th>\n",
       "      <th>user_id</th>\n",
       "      <th>content</th>\n",
       "      <th>tweetnum</th>\n",
       "      <th>comnum</th>\n",
       "      <th>thumbnum</th>\n",
       "      <th>timestamp</th>\n",
       "      <th>time</th>\n",
       "      <th>tweet_type</th>\n",
       "      <th>y</th>\n",
       "      <th>date</th>\n",
       "      <th>fdate</th>\n",
       "      <th>hour</th>\n",
       "    </tr>\n",
       "  </thead>\n",
       "  <tbody>\n",
       "    <tr>\n",
       "      <td>0</td>\n",
       "      <td>trymyself_supportyou</td>\n",
       "      <td>5650314857</td>\n",
       "      <td>网课//@SgKsItAll:推荐astrlass,尤其是为兴趣而学的。太”ldshl”了</td>\n",
       "      <td>0</td>\n",
       "      <td>0</td>\n",
       "      <td>1</td>\n",
       "      <td>2020-01-21 22:51:00</td>\n",
       "      <td>01月21日 22:51</td>\n",
       "      <td>1</td>\n",
       "      <td>2020年</td>\n",
       "      <td>2020-01-21</td>\n",
       "      <td>2020-01-21</td>\n",
       "      <td>22</td>\n",
       "    </tr>\n",
       "    <tr>\n",
       "      <td>1</td>\n",
       "      <td>星雨宇宙</td>\n",
       "      <td>5754833360</td>\n",
       "      <td>为了#自律#，成为更好的自己加油！&lt;U+2728&gt;Day21真的坚强和想要坚强是两码事·练字...</td>\n",
       "      <td>0</td>\n",
       "      <td>0</td>\n",
       "      <td>0</td>\n",
       "      <td>2020-01-21 22:29:00</td>\n",
       "      <td>01月21日 22:29</td>\n",
       "      <td>0</td>\n",
       "      <td>2020年</td>\n",
       "      <td>2020-01-21</td>\n",
       "      <td>2020-01-21</td>\n",
       "      <td>22</td>\n",
       "    </tr>\n",
       "    <tr>\n",
       "      <td>2</td>\n",
       "      <td>Opiummm_L</td>\n",
       "      <td>6338323579</td>\n",
       "      <td>2020.1.21//程路明把我从3.9捞到4.2，郑妈直接把忘看的我拉上满绩，都是什么神仙...</td>\n",
       "      <td>0</td>\n",
       "      <td>0</td>\n",
       "      <td>0</td>\n",
       "      <td>2020-01-21 22:24:00</td>\n",
       "      <td>01月21日 22:24</td>\n",
       "      <td>0</td>\n",
       "      <td>2020年</td>\n",
       "      <td>2020-01-21</td>\n",
       "      <td>2020-01-21</td>\n",
       "      <td>22</td>\n",
       "    </tr>\n",
       "  </tbody>\n",
       "</table>\n",
       "</div>"
      ],
      "text/plain": [
       "               nickname     user_id  \\\n",
       "0  trymyself_supportyou  5650314857   \n",
       "1                  星雨宇宙  5754833360   \n",
       "2             Opiummm_L  6338323579   \n",
       "\n",
       "                                             content  tweetnum  comnum  \\\n",
       "0      网课//@SgKsItAll:推荐astrlass,尤其是为兴趣而学的。太”ldshl”了         0       0   \n",
       "1  为了#自律#，成为更好的自己加油！<U+2728>Day21真的坚强和想要坚强是两码事·练字...         0       0   \n",
       "2  2020.1.21//程路明把我从3.9捞到4.2，郑妈直接把忘看的我拉上满绩，都是什么神仙...         0       0   \n",
       "\n",
       "   thumbnum            timestamp          time tweet_type      y        date  \\\n",
       "0         1  2020-01-21 22:51:00  01月21日 22:51          1  2020年  2020-01-21   \n",
       "1         0  2020-01-21 22:29:00  01月21日 22:29          0  2020年  2020-01-21   \n",
       "2         0  2020-01-21 22:24:00  01月21日 22:24          0  2020年  2020-01-21   \n",
       "\n",
       "        fdate  hour  \n",
       "0  2020-01-21    22  \n",
       "1  2020-01-21    22  \n",
       "2  2020-01-21    22  "
      ]
     },
     "execution_count": 12,
     "metadata": {},
     "output_type": "execute_result"
    }
   ],
   "source": [
    "data.head(3)"
   ]
  },
  {
   "cell_type": "code",
   "execution_count": 35,
   "metadata": {},
   "outputs": [
    {
     "name": "stderr",
     "output_type": "stream",
     "text": [
      "/Users/exudingtao/opt/anaconda3/lib/python3.7/site-packages/IPython/core/interactiveshell.py:3058: DtypeWarning: Columns (1,3,7,8,9,10,12,13,14,20,21,25,26) have mixed types. Specify dtype option on import or set low_memory=False.\n",
      "  interactivity=interactivity, compiler=compiler, result=result)\n"
     ]
    }
   ],
   "source": [
    "data1 = pd.read_csv('./data/0-教师，1-学生.csv')"
   ]
  },
  {
   "cell_type": "code",
   "execution_count": 17,
   "metadata": {},
   "outputs": [],
   "source": [
    "data2 = pd.read_csv('./data/0121-0210 new.csv')"
   ]
  },
  {
   "cell_type": "code",
   "execution_count": 18,
   "metadata": {},
   "outputs": [
    {
     "data": {
      "text/plain": [
       "207544"
      ]
     },
     "execution_count": 18,
     "metadata": {},
     "output_type": "execute_result"
    }
   ],
   "source": [
    "len(data)"
   ]
  },
  {
   "cell_type": "code",
   "execution_count": 19,
   "metadata": {},
   "outputs": [
    {
     "data": {
      "text/plain": [
       "386652"
      ]
     },
     "execution_count": 19,
     "metadata": {},
     "output_type": "execute_result"
    }
   ],
   "source": [
    "len(data2)"
   ]
  },
  {
   "cell_type": "code",
   "execution_count": 20,
   "metadata": {},
   "outputs": [
    {
     "data": {
      "text/plain": [
       "1569"
      ]
     },
     "execution_count": 20,
     "metadata": {},
     "output_type": "execute_result"
    }
   ],
   "source": [
    "len(data1)"
   ]
  },
  {
   "cell_type": "code",
   "execution_count": 24,
   "metadata": {},
   "outputs": [
    {
     "data": {
      "text/plain": [
       "Index(['keyword', '昵称', 'uid', '微博', '转发数', '评论数', '点赞数', '时间', '发布工具', '采集链接',\n",
       "       '认证', 'mid', 'forward_flag', '定位', 'video_flag', '视频播放数', '#', '@',\n",
       "       '图片数', '表情数', '采集时间', '原博主', '原微博点赞数', '原微博评论数', '原微博转发数', '原微博发布时间',\n",
       "       '原微博内容'],\n",
       "      dtype='object')"
      ]
     },
     "execution_count": 24,
     "metadata": {},
     "output_type": "execute_result"
    }
   ],
   "source": [
    "data2.columns"
   ]
  },
  {
   "cell_type": "code",
   "execution_count": 25,
   "metadata": {},
   "outputs": [
    {
     "data": {
      "text/plain": [
       "Index(['nickname', 'user_id', 'content', 'tweetnum', 'comnum', 'thumbnum',\n",
       "       'timestamp', 'time', 'tweet_type', 'y', 'date', 'fdate', 'hour'],\n",
       "      dtype='object')"
      ]
     },
     "execution_count": 25,
     "metadata": {},
     "output_type": "execute_result"
    }
   ],
   "source": [
    "data.columns"
   ]
  },
  {
   "cell_type": "code",
   "execution_count": 36,
   "metadata": {},
   "outputs": [],
   "source": [
    "data1 = data1[['标识（0-教师，1-学生）','微博']]"
   ]
  },
  {
   "cell_type": "code",
   "execution_count": 39,
   "metadata": {},
   "outputs": [],
   "source": [
    "data1.rename(columns={'标识（0-教师，1-学生）':'target','微博':'content'},inplace=True)"
   ]
  },
  {
   "cell_type": "code",
   "execution_count": 41,
   "metadata": {},
   "outputs": [
    {
     "data": {
      "text/html": [
       "<div>\n",
       "<style scoped>\n",
       "    .dataframe tbody tr th:only-of-type {\n",
       "        vertical-align: middle;\n",
       "    }\n",
       "\n",
       "    .dataframe tbody tr th {\n",
       "        vertical-align: top;\n",
       "    }\n",
       "\n",
       "    .dataframe thead th {\n",
       "        text-align: right;\n",
       "    }\n",
       "</style>\n",
       "<table border=\"1\" class=\"dataframe\">\n",
       "  <thead>\n",
       "    <tr style=\"text-align: right;\">\n",
       "      <th></th>\n",
       "      <th>target</th>\n",
       "      <th>content</th>\n",
       "    </tr>\n",
       "  </thead>\n",
       "  <tbody>\n",
       "    <tr>\n",
       "      <td>0</td>\n",
       "      <td>0.0</td>\n",
       "      <td>这疫情局势有点严重啊~~~，决定不回老家过年了，寒假就留在北京，不然就算出去了到时也讲不定会...</td>\n",
       "    </tr>\n",
       "    <tr>\n",
       "      <td>1</td>\n",
       "      <td>1.0</td>\n",
       "      <td>继续在线卑求延期控制传染源减少流动性大学生一个宿舍好几个人几十个人一上课离武汉那么近控制的了...</td>\n",
       "    </tr>\n",
       "    <tr>\n",
       "      <td>2</td>\n",
       "      <td>0.0</td>\n",
       "      <td>广东还没有出消息；但如果延期开学的话，老师和学生的压力只会更大。我现在在想，哪个平台可以视频...</td>\n",
       "    </tr>\n",
       "    <tr>\n",
       "      <td>3</td>\n",
       "      <td>0.0</td>\n",
       "      <td>我我什么还要在线教学，这不是逼着我洗头吗？</td>\n",
       "    </tr>\n",
       "    <tr>\n",
       "      <td>4</td>\n",
       "      <td>0.0</td>\n",
       "      <td>#武汉市中小学2月10日线上开课#评论里质疑有没有用的一看就是没上过网络课，坐标江苏，之前高...</td>\n",
       "    </tr>\n",
       "    <tr>\n",
       "      <td>...</td>\n",
       "      <td>...</td>\n",
       "      <td>...</td>\n",
       "    </tr>\n",
       "    <tr>\n",
       "      <td>1559</td>\n",
       "      <td>1.0</td>\n",
       "      <td>事情一定要提前做准备啊！！！这疫情推迟开学我去不了幼儿园调查，我的论啊啊啊啊啊啊啊啊我可烦死了</td>\n",
       "    </tr>\n",
       "    <tr>\n",
       "      <td>1560</td>\n",
       "      <td>1.0</td>\n",
       "      <td>买完口罩发现买错了退了又买了100只🙏🙏🙏大概率过几天推迟开学吧……</td>\n",
       "    </tr>\n",
       "    <tr>\n",
       "      <td>1561</td>\n",
       "      <td>1.0</td>\n",
       "      <td>//@一川草木深:武汉高校特别多，100W大学生，希望大学可以推迟开学，减少春运后的大规模人...</td>\n",
       "    </tr>\n",
       "    <tr>\n",
       "      <td>1562</td>\n",
       "      <td>1.0</td>\n",
       "      <td>#黄冈新增12例新型肺炎#真的没想到黄冈因为这个上热搜大家出门都戴口罩吧武汉的尽量别到处跑别...</td>\n",
       "    </tr>\n",
       "    <tr>\n",
       "      <td>1563</td>\n",
       "      <td>1.0</td>\n",
       "      <td>最近最讨厌的就是停课不停学，免费送网课的这帮奸商，让大家心灵安静点，别老搞知识焦虑，我少学几...</td>\n",
       "    </tr>\n",
       "  </tbody>\n",
       "</table>\n",
       "<p>1564 rows × 2 columns</p>\n",
       "</div>"
      ],
      "text/plain": [
       "      target                                            content\n",
       "0        0.0  这疫情局势有点严重啊~~~，决定不回老家过年了，寒假就留在北京，不然就算出去了到时也讲不定会...\n",
       "1        1.0  继续在线卑求延期控制传染源减少流动性大学生一个宿舍好几个人几十个人一上课离武汉那么近控制的了...\n",
       "2        0.0  广东还没有出消息；但如果延期开学的话，老师和学生的压力只会更大。我现在在想，哪个平台可以视频...\n",
       "3        0.0                              我我什么还要在线教学，这不是逼着我洗头吗？\n",
       "4        0.0  #武汉市中小学2月10日线上开课#评论里质疑有没有用的一看就是没上过网络课，坐标江苏，之前高...\n",
       "...      ...                                                ...\n",
       "1559     1.0    事情一定要提前做准备啊！！！这疫情推迟开学我去不了幼儿园调查，我的论啊啊啊啊啊啊啊啊我可烦死了\n",
       "1560     1.0                 买完口罩发现买错了退了又买了100只🙏🙏🙏大概率过几天推迟开学吧……\n",
       "1561     1.0  //@一川草木深:武汉高校特别多，100W大学生，希望大学可以推迟开学，减少春运后的大规模人...\n",
       "1562     1.0  #黄冈新增12例新型肺炎#真的没想到黄冈因为这个上热搜大家出门都戴口罩吧武汉的尽量别到处跑别...\n",
       "1563     1.0  最近最讨厌的就是停课不停学，免费送网课的这帮奸商，让大家心灵安静点，别老搞知识焦虑，我少学几...\n",
       "\n",
       "[1564 rows x 2 columns]"
      ]
     },
     "execution_count": 41,
     "metadata": {},
     "output_type": "execute_result"
    }
   ],
   "source": [
    "data1.dropna()"
   ]
  },
  {
   "cell_type": "code",
   "execution_count": 43,
   "metadata": {},
   "outputs": [],
   "source": [
    "data1.to_csv('./data/train_test_data.csv',index=False)"
   ]
  },
  {
   "cell_type": "code",
   "execution_count": 59,
   "metadata": {},
   "outputs": [
    {
     "data": {
      "text/plain": [
       "12345"
      ]
     },
     "execution_count": 59,
     "metadata": {},
     "output_type": "execute_result"
    }
   ],
   "source": [
    "from functools import reduce\n",
    "reduce(lambda x,y:x*10+y,[1,2,3,4,5])#前面函数后面参数"
   ]
  },
  {
   "cell_type": "code",
   "execution_count": 60,
   "metadata": {},
   "outputs": [
    {
     "data": {
      "text/plain": [
       "1.5"
      ]
     },
     "execution_count": 60,
     "metadata": {},
     "output_type": "execute_result"
    }
   ],
   "source": [
    "6/4"
   ]
  },
  {
   "cell_type": "code",
   "execution_count": 70,
   "metadata": {},
   "outputs": [],
   "source": [
    "l = [(1,3),(2,4)]"
   ]
  },
  {
   "cell_type": "code",
   "execution_count": 72,
   "metadata": {},
   "outputs": [],
   "source": []
  },
  {
   "cell_type": "code",
   "execution_count": 74,
   "metadata": {},
   "outputs": [
    {
     "name": "stdout",
     "output_type": "stream",
     "text": [
      "1 2\n",
      "3 4\n"
     ]
    }
   ],
   "source": [
    "l = [(1,3),(2,4)]\n",
    "a = zip(*l)\n",
    "for i,j in a:\n",
    "    print(i,j)"
   ]
  },
  {
   "cell_type": "code",
   "execution_count": null,
   "metadata": {},
   "outputs": [],
   "source": []
  }
 ],
 "metadata": {
  "kernelspec": {
   "display_name": "Python 3",
   "language": "python",
   "name": "python3"
  },
  "language_info": {
   "codemirror_mode": {
    "name": "ipython",
    "version": 3
   },
   "file_extension": ".py",
   "mimetype": "text/x-python",
   "name": "python",
   "nbconvert_exporter": "python",
   "pygments_lexer": "ipython3",
   "version": "3.7.4"
  }
 },
 "nbformat": 4,
 "nbformat_minor": 2
}
