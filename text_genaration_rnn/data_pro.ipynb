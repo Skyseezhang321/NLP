{
 "cells": [
  {
   "cell_type": "code",
   "execution_count": 9,
   "metadata": {},
   "outputs": [],
   "source": [
    "import pandas as pd"
   ]
  },
  {
   "cell_type": "code",
   "execution_count": 10,
   "metadata": {},
   "outputs": [],
   "source": [
    "#去停用词\n",
    "import jieba\n",
    "def preprocess_text(content_lines):\n",
    "    try:\n",
    "        segs = jieba.lcut(content_lines)\n",
    "        #segs = list(filter(lambda x: len(x)>1,segs))\n",
    "        segs = ' '.join(segs)#分完词后 用空格串起来 且和label合并为一个元组\n",
    "        return segs\n",
    "    except Exception as e:\n",
    "        return ' '"
   ]
  },
  {
   "cell_type": "code",
   "execution_count": 11,
   "metadata": {},
   "outputs": [],
   "source": [
    "with open('三重门.txt', 'r') as f:\n",
    "    with open('train.txt','w') as fw:\n",
    "        for line in f.readlines():\n",
    "            line = preprocess_text(line)\n",
    "            fw.write(line)"
   ]
  },
  {
   "cell_type": "code",
   "execution_count": null,
   "metadata": {},
   "outputs": [],
   "source": []
  }
 ],
 "metadata": {
  "kernelspec": {
   "display_name": "Python 3",
   "language": "python",
   "name": "python3"
  },
  "language_info": {
   "codemirror_mode": {
    "name": "ipython",
    "version": 3
   },
   "file_extension": ".py",
   "mimetype": "text/x-python",
   "name": "python",
   "nbconvert_exporter": "python",
   "pygments_lexer": "ipython3",
   "version": "3.7.4"
  }
 },
 "nbformat": 4,
 "nbformat_minor": 2
}
